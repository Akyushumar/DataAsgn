{
 "cells": [
  {
   "cell_type": "code",
   "execution_count": 1,
   "metadata": {},
   "outputs": [],
   "source": [
    "import numpy as np\n",
    "import pandas as pd"
   ]
  },
  {
   "cell_type": "code",
   "execution_count": 2,
   "metadata": {},
   "outputs": [],
   "source": [
    "df1 = pd.read_excel(R\"BD.xlsx\")\n",
    "df2 = pd.read_excel(R\"ED.xlsx\")\n",
    "df3 = pd.read_excel(R\"IAQ.xlsx\")\n",
    "df4 = pd.read_excel(R\"OAQ.xlsx\")"
   ]
  },
  {
   "cell_type": "code",
   "execution_count": 3,
   "metadata": {},
   "outputs": [
    {
     "name": "stdout",
     "output_type": "stream",
     "text": [
      "        Date      Time  CO2 (Indoor)  CO2 (Outdoor)  Air Temp. (Indoor)  \\\n",
      "0 2023-02-15  00:00:00           901            392                26.8   \n",
      "1 2023-02-15  00:15:00          1069            395                26.8   \n",
      "2 2023-02-15  00:30:00          1218            397                26.8   \n",
      "3 2023-02-15  00:45:00          1320            392                26.8   \n",
      "4 2023-02-15  01:00:00          1408            395                26.8   \n",
      "\n",
      "   Air Temp. (Outdoor)  RH% (Indoor)  RH% (Outdoor)  \n",
      "0                 20.4          52.2           55.1  \n",
      "1                 20.3          54.0           55.8  \n",
      "2                 20.2          55.1           55.8  \n",
      "3                 20.1          55.7           55.2  \n",
      "4                 20.1          56.2           55.6  \n",
      "  Time Bucket (Asia/Calcutta) Computer - kWatts  Plug Load (kWatts)  \\\n",
      "0         2023-10-02 05:45:00             No CT                 0.0   \n",
      "1         2023-10-02 06:00:00             No CT                 0.0   \n",
      "2         2023-10-02 06:15:00             No CT                 0.0   \n",
      "3         2023-10-02 06:30:00             No CT                 0.0   \n",
      "4         2023-10-02 06:45:00             No CT                 0.0   \n",
      "\n",
      "   Air Conditioner-kWatts light + fan - kWatts   \n",
      "0                     0.0                 No CT  \n",
      "1                     0.0                 No CT  \n",
      "2                     0.0                 No CT  \n",
      "3                     0.0                 No CT  \n",
      "4                     0.0                 No CT  \n",
      "    Location Unnamed: 1 testo 160 IAQ_51616142 [ppm]  \\\n",
      "0 2023-01-01   00:00:00                          385   \n",
      "1 2023-01-01   00:15:00                          387   \n",
      "2 2023-01-01   00:30:00                          390   \n",
      "3 2023-01-01   00:45:00                          389   \n",
      "4 2023-01-01   01:00:00                          391   \n",
      "\n",
      "   testo 160 IAQ_51616142 [°C]  testo 160 IAQ_51616142 [mbar]  \\\n",
      "0                         21.7                           1010   \n",
      "1                         21.7                           1010   \n",
      "2                         21.7                           1010   \n",
      "3                         21.7                           1010   \n",
      "4                         21.7                           1010   \n",
      "\n",
      "   testo 160 IAQ_51616142 [%RH]  testo 160 IAQ_51616142 [°C td]  \\\n",
      "0                          63.5                            14.5   \n",
      "1                          63.7                            14.5   \n",
      "2                          63.8                            14.6   \n",
      "3                          63.8                            14.6   \n",
      "4                          63.8                            14.5   \n",
      "\n",
      "   testo 160 IAQ_51616142 [g/m³]  \n",
      "0                           12.1  \n",
      "1                           12.2  \n",
      "2                           12.2  \n",
      "3                           12.2  \n",
      "4                           12.2  \n",
      "                Location Unnamed: 1 testo 160 IAQ_51616135_outdoor [ppm]  \\\n",
      "0  Measuring point group        NaN                                  NaN   \n",
      "1                   Area        NaN                                  NaN   \n",
      "2      Lower limit value        NaN                                  NaN   \n",
      "3      Upper limit value        NaN                                  NaN   \n",
      "4             Mean value        NaN                                  393   \n",
      "\n",
      "   testo 160 IAQ_51616135_outdoor [°C]  testo 160 IAQ_51616135_outdoor [mbar]  \\\n",
      "0                                  NaN                                    NaN   \n",
      "1                                  NaN                                    NaN   \n",
      "2                                  NaN                                    NaN   \n",
      "3                                  NaN                                    NaN   \n",
      "4                                 27.2                                 1002.0   \n",
      "\n",
      "   testo 160 IAQ_51616135_outdoor [%RH]  \\\n",
      "0                                   NaN   \n",
      "1                                   NaN   \n",
      "2                                   NaN   \n",
      "3                                   NaN   \n",
      "4                                  73.0   \n",
      "\n",
      "   testo 160 IAQ_51616135_outdoor [°C td]  \\\n",
      "0                                     NaN   \n",
      "1                                     NaN   \n",
      "2                                     NaN   \n",
      "3                                     NaN   \n",
      "4                                    21.5   \n",
      "\n",
      "   testo 160 IAQ_51616135_outdoor [g/m³]  \n",
      "0                                    NaN  \n",
      "1                                    NaN  \n",
      "2                                    NaN  \n",
      "3                                    NaN  \n",
      "4                                   19.1  \n"
     ]
    }
   ],
   "source": [
    "print(df1.head())\n",
    "print(df2.head())\n",
    "print(df3.head())\n",
    "print(df4.head())"
   ]
  },
  {
   "cell_type": "code",
   "execution_count": null,
   "metadata": {},
   "outputs": [],
   "source": []
  }
 ],
 "metadata": {
  "kernelspec": {
   "display_name": "base",
   "language": "python",
   "name": "python3"
  },
  "language_info": {
   "codemirror_mode": {
    "name": "ipython",
    "version": 3
   },
   "file_extension": ".py",
   "mimetype": "text/x-python",
   "name": "python",
   "nbconvert_exporter": "python",
   "pygments_lexer": "ipython3",
   "version": "3.12.7"
  }
 },
 "nbformat": 4,
 "nbformat_minor": 2
}
